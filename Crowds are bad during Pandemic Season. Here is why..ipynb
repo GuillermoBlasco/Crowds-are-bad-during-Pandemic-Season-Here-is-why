{
 "cells": [
  {
   "cell_type": "code",
   "execution_count": 43,
   "metadata": {},
   "outputs": [],
   "source": [
    "import random\n",
    "\n",
    "def infectPeople(settings):\n",
    "    people = [i for i in range(settings[\"population\"])]\n",
    "    random.shuffle(people)\n",
    "    return people[0:settings[\"infectedAmount\"]]\n",
    "\n",
    "def makeParties(settings):\n",
    "    return {i : i % settings[\"parties\"] for i in range(settings[\"population\"])}\n",
    "\n",
    "def findPartiesInfected(peopleInfected, parties):\n",
    "    partiesInfected = []\n",
    "    for x in peopleInfected:\n",
    "        partiesInfected.append(parties[x])\n",
    "    return set(partiesInfected)\n",
    "\n",
    "\n",
    "def simulate(settings):\n",
    "    peopleInfected = infectPeople(settings)\n",
    "    citizensToParty = makeParties(settings)\n",
    "    partiesInfected = findPartiesInfected(peopleInfected, citizensToParty)\n",
    "    citizensInfected =  len(partiesInfected) * settings[\"citizensPerParty\"]\n",
    "    return {\n",
    "      \"partiesInfected\": len(partiesInfected),\n",
    "      \"citizensInfected\": citizensInfected,\n",
    "      \"ratio\": (1.0*citizensInfected) / settings[\"population\"]\n",
    "    }\n",
    "\n",
    "def makeSettings(parties, population, infectedRate):\n",
    "    return {\n",
    "        \"parties\": parties,\n",
    "        \"population\": population,\n",
    "        \"infectedRate\": infectedRate,\n",
    "        \"infectedAmount\": int(population * infectedRate),\n",
    "        \"citizensPerParty\": int(population / parties)\n",
    "    }\n"
   ]
  },
  {
   "cell_type": "code",
   "execution_count": 44,
   "metadata": {},
   "outputs": [],
   "source": [
    "s = makeSettings(1000, 100000, 0.01)"
   ]
  },
  {
   "cell_type": "code",
   "execution_count": 45,
   "metadata": {},
   "outputs": [
    {
     "data": {
      "text/plain": [
       "{'partiesInfected': 610, 'citizensInfected': 61000, 'ratio': 0.61}"
      ]
     },
     "execution_count": 45,
     "metadata": {},
     "output_type": "execute_result"
    }
   ],
   "source": [
    "simulate(s)"
   ]
  },
  {
   "cell_type": "code",
   "execution_count": 46,
   "metadata": {},
   "outputs": [],
   "source": [
    "N = 1000\n",
    "\n",
    "def makeSimulation(settings, N):\n",
    "    return [simulate(settings)[\"ratio\"] for n in range(N)]\n"
   ]
  },
  {
   "cell_type": "code",
   "execution_count": 47,
   "metadata": {},
   "outputs": [],
   "source": [
    "def get_divisors(n):\n",
    "    for i in range(1, int(n / 2) + 1):\n",
    "        if n % i == 0:\n",
    "            yield i\n",
    "    yield n\n",
    "    \n",
    "def mapField(population, infectedRate, N):\n",
    "    divisors = [i for i in get_divisors(population)]\n",
    "    print(\"Going to process \" + str(len(divisors)))\n",
    "    return {p: makeSimulation(makeSettings(p, population, infectedRate), N) for p in divisors}\n",
    "    "
   ]
  },
  {
   "cell_type": "code",
   "execution_count": 49,
   "metadata": {},
   "outputs": [
    {
     "name": "stdout",
     "output_type": "stream",
     "text": [
      "Going to process 36\n"
     ]
    }
   ],
   "source": []
  },
  {
   "cell_type": "code",
   "execution_count": 67,
   "metadata": {},
   "outputs": [],
   "source": [
    "import matplotlib.pyplot as plt\n",
    "\n",
    "def process(o):\n",
    "    x = []\n",
    "    y = []\n",
    "    for parties, ratios in o.items():\n",
    "        x.append(100000/parties)\n",
    "        thisX = sum(ratios) / 100\n",
    "        y.append(thisX)\n",
    "    return (x, y)\n",
    "\n",
    "def plotit(o):\n",
    "    x, y = process(o)\n",
    "    plt.figure()\n",
    "    plt.subplot(111)\n",
    "    plt.plot(x, y, 'o-')  \n",
    "    plt.xscale('log')\n",
    "    plt.title('% infected vs party size')\n",
    "    plt.grid(True)\n"
   ]
  },
  {
   "cell_type": "code",
   "execution_count": 68,
   "metadata": {},
   "outputs": [
    {
     "name": "stdout",
     "output_type": "stream",
     "text": [
      "Going to process 36\n"
     ]
    },
    {
     "data": {
      "image/png": "[encoded data removed]",
      "text/plain": [
       "<Figure size 432x288 with 1 Axes>"
      ]
     },
     "metadata": {
      "needs_background": "light"
     },
     "output_type": "display_data"
    }
   ],
   "source": [
    "o = mapField(100000, 0.01, 100)\n",
    "plotit(o)"
   ]
  },
  {
   "cell_type": "code",
   "execution_count": 69,
   "metadata": {},
   "outputs": [
    {
     "name": "stdout",
     "output_type": "stream",
     "text": [
      "Going to process 36\n"
     ]
    },
    {
     "data": {
      "image/png": "[encoded data removed]",
      "text/plain": [
       "<Figure size 432x288 with 1 Axes>"
      ]
     },
     "metadata": {
      "needs_background": "light"
     },
     "output_type": "display_data"
    }
   ],
   "source": [
    "o = mapField(100000, 0.05, 100)\n",
    "plotit(o)"
   ]
  },
  {
   "cell_type": "code",
   "execution_count": null,
   "metadata": {},
   "outputs": [],
   "source": []
  }
 ],
 "metadata": {
  "kernelspec": {
   "display_name": "Python 3",
   "language": "python",
   "name": "python3"
  },
  "language_info": {
   "codemirror_mode": {
    "name": "ipython",
    "version": 3
   },
   "file_extension": ".py",
   "mimetype": "text/x-python",
   "name": "python",
   "nbconvert_exporter": "python",
   "pygments_lexer": "ipython3",
   "version": "3.8.2"
  }
 },
 "nbformat": 4,
 "nbformat_minor": 4
}
